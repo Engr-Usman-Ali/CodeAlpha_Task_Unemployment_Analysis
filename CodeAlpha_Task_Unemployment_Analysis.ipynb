{
  "nbformat": 4,
  "nbformat_minor": 0,
  "metadata": {
    "colab": {
      "provenance": [],
      "authorship_tag": "ABX9TyMLbYu3AG3LEhI18VzdYTat",
      "include_colab_link": true
    },
    "kernelspec": {
      "name": "python3",
      "display_name": "Python 3"
    },
    "language_info": {
      "name": "python"
    }
  },
  "cells": [
    {
      "cell_type": "markdown",
      "metadata": {
        "id": "view-in-github",
        "colab_type": "text"
      },
      "source": [
        "<a href=\"https://colab.research.google.com/github/Engr-Usman-Ali/CodeAlpha_Task_Unemployment_Analysis/blob/main/CodeAlpha_Task_Unemployment_Analysis.ipynb\" target=\"_parent\"><img src=\"https://colab.research.google.com/assets/colab-badge.svg\" alt=\"Open In Colab\"/></a>"
      ]
    },
    {
      "cell_type": "code",
      "execution_count": 43,
      "metadata": {
        "id": "sjX6GgMA4YmT"
      },
      "outputs": [],
      "source": [
        "# Import necessary libraries\n",
        "import pandas as pd\n",
        "import matplotlib.pyplot as plt\n",
        "import seaborn as sns"
      ]
    },
    {
      "cell_type": "code",
      "source": [
        "!git clone https://github.com/Engr-Usman-Ali/CodeAlpha_Task_Unemployment_Analysis.git"
      ],
      "metadata": {
        "id": "Y7r5C57O41RZ"
      },
      "execution_count": null,
      "outputs": []
    },
    {
      "cell_type": "code",
      "source": [
        "# Load the dataset\n",
        "file_path = \"/content/CodeAlpha_Task_Unemployment_Analysis/Unemployment in India.csv\"\n",
        "df = pd.read_csv(file_path)\n",
        "\n",
        "# Cleaning the dataset\n",
        "df.columns = df.columns.str.strip() # Remove spaces in column names\n",
        "df = df.applymap(lambda x: x.strip() if isinstance(x, str) else x) # Trim spaces in values\n",
        "df.dropna(inplace=True) # Remove missing values"
      ],
      "metadata": {
        "id": "A8eKgRNp48st"
      },
      "execution_count": null,
      "outputs": []
    },
    {
      "cell_type": "code",
      "source": [
        "\n",
        "# Convert 'Date' column to datetime format\n",
        "df[\"Date\"] = pd.to_datetime(df[\"Date\"], format=\"%d-%m-%Y\")\n",
        "\n",
        "# Display basic statistical summary\n",
        "summary_stats = df.describe()\n",
        "print(\"Summary Statistics:\\n\", summary_stats)"
      ],
      "metadata": {
        "id": "GVopiitV5NTx"
      },
      "execution_count": null,
      "outputs": []
    },
    {
      "cell_type": "code",
      "source": [
        "# Unique regions and areas\n",
        "unique_regions = df[\"Region\"].nunique()\n",
        "unique_areas = df[\"Area\"].unique()\n",
        "print(f\"\\nTotal Regions: {unique_regions}\")\n",
        "print(f\"Areas: {unique_areas}\")"
      ],
      "metadata": {
        "id": "5GBzbH1G5m48"
      },
      "execution_count": null,
      "outputs": []
    },
    {
      "cell_type": "code",
      "source": [
        "# Set plot style\n",
        "sns.set(style=\"whitegrid\")\n",
        "\n",
        "# 1. **Unemployment Rate Trends Over Time**\n",
        "plt.figure(figsize=(12, 6))\n",
        "sns.lineplot(data=df, x=\"Date\", y=\"Estimated Unemployment Rate (%)\", hue=\"Area\")\n",
        "plt.title(\"Unemployment Rate Trends in India (Rural vs Urban)\")\n",
        "plt.xlabel(\"Year\")\n",
        "plt.ylabel(\"Unemployment Rate (%)\")\n",
        "plt.legend(title=\"Area\")\n",
        "plt.xticks(rotation=45)\n",
        "plt.show()"
      ],
      "metadata": {
        "id": "8ijNc_D-5rkp"
      },
      "execution_count": null,
      "outputs": []
    },
    {
      "cell_type": "code",
      "source": [
        "# 2. **Region-wise Unemployment Rate (Top 10)**\n",
        "plt.figure(figsize=(14, 6))\n",
        "top_regions = df.groupby(\"Region\")[\"Estimated Unemployment Rate (%)\"].mean().sort_values(ascending=False).head(10)\n",
        "sns.barplot(x=top_regions.index, y=top_regions.values, palette=\"Reds_r\")\n",
        "plt.title(\"Top 10 Regions with Highest Unemployment Rate\")\n",
        "plt.xlabel(\"Region\")\n",
        "plt.ylabel(\"Average Unemployment Rate (%)\")\n",
        "plt.xticks(rotation=45)\n",
        "plt.show()"
      ],
      "metadata": {
        "id": "BvCYYZ7Z8lyZ"
      },
      "execution_count": null,
      "outputs": []
    },
    {
      "cell_type": "code",
      "source": [
        "# 3. **Labour Participation Rate Distribution**\n",
        "plt.figure(figsize=(10, 5))\n",
        "sns.histplot(df[\"Estimated Labour Participation Rate (%)\"], bins=20, kde=True, color=\"blue\")\n",
        "plt.title(\"Distribution of Labour Participation Rate in India\")\n",
        "plt.xlabel(\"Labour Participation Rate (%)\")\n",
        "plt.ylabel(\"Frequency\")\n",
        "plt.show()"
      ],
      "metadata": {
        "collapsed": true,
        "id": "EgMbFOuP85U9"
      },
      "execution_count": null,
      "outputs": []
    },
    {
      "cell_type": "code",
      "source": [
        "# 4. **Urban vs Rural Employment Comparison**\n",
        "plt.figure(figsize=(12, 6))\n",
        "sns.boxplot(x=\"Area\", y=\"Estimated Employed\", data=df, palette=\"coolwarm\")\n",
        "plt.title(\"Comparison of Estimated Employed Population (Rural vs Urban)\")\n",
        "plt.xlabel(\"Area\")\n",
        "plt.ylabel(\"Estimated Employed Population\")\n",
        "plt.show()"
      ],
      "metadata": {
        "id": "1RA7MEsJ9Npn"
      },
      "execution_count": null,
      "outputs": []
    }
  ]
}